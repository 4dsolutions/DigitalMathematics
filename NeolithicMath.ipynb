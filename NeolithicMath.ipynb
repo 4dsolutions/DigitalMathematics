{
 "cells": [
  {
   "cell_type": "markdown",
   "metadata": {},
   "source": [
    "[Digital Mathematics Curriculum](http://wikieducator.org/Digital_Math)\n",
    "\n",
    "<a data-flickr-embed=\"true\"  href=\"https://www.flickr.com/photos/kirbyurner/4167815687/in/album-72157612202599023/\" title=\"American Tool\"><img src=\"https://farm3.staticflickr.com/2545/4167815687_62c5ebf500_z.jpg\" width=\"640\" height=\"480\" alt=\"American Tool\"></a><script async src=\"//embedr.flickr.com/assets/client-code.js\" charset=\"utf-8\"></script>\n",
    "\n",
    "# Neolithic Math\n",
    "\n",
    "Neolithic Math provides a way to get back to basics, but without sacrificing the heuristics now believed to have guided many an ancient culture. \n",
    "\n",
    "Even though the tools were relatively primitive, we have ample evidence that geographic and astronomic information was embedded in these arts and crafts. \n",
    "\n",
    "We look at Stonehenge and further back to early hominids to establish our direction in time (towards the past), however our historical approach is welcome to bring the storylines right up to the present.  \n",
    "\n",
    "Then we switch to science fiction mode to speculate about the future, in Martian Math.\n",
    "\n",
    "In each age along the timeline, civilization takes risks ([Casino Math](CasinoMath.ipynb)) and expresses some economy or logistics capability ([Supermarket Math](SuperMarketMath.ipynb)).\n",
    "\n",
    "Given the historical approach, expect to focus on the evolution of mathematical concepts and notations, with attention to how it gets passed on through various institutions (not only schools).\n",
    "\n",
    "### Time & Space\n",
    "\n",
    "Our work here involves keeping track of time using calendars, and relating these calendars to astronomical cycles and relationships.  \n",
    "\n",
    "With astronomical considerations comes geography and geodessy, and the history of map making.  What is a map?  What is a calendar?\n",
    "\n",
    "We will study the Gregorian Calendar, but also several others.\n",
    "\n",
    "We will not neglect to share multiple cosomologies right up to those of the present day."
   ]
  },
  {
   "cell_type": "code",
   "execution_count": 3,
   "metadata": {},
   "outputs": [
    {
     "data": {
      "text/plain": [
       "1"
      ]
     },
     "execution_count": 3,
     "metadata": {},
     "output_type": "execute_result"
    }
   ],
   "source": [
    "import datetime\n",
    "jan1_0001 = datetime.datetime(1,1,1)\n",
    "jan1_0001.toordinal()"
   ]
  },
  {
   "cell_type": "code",
   "execution_count": 8,
   "metadata": {},
   "outputs": [],
   "source": [
    "# uncomment the line below to see source code\n",
    "?? jan1_0001 "
   ]
  },
  {
   "cell_type": "markdown",
   "metadata": {},
   "source": [
    "[Neolithic Math on Wikieducator](https://wikieducator.org/Neolithic_Math)"
   ]
  }
 ],
 "metadata": {
  "kernelspec": {
   "display_name": "Python 3 (ipykernel)",
   "language": "python",
   "name": "python3"
  },
  "language_info": {
   "codemirror_mode": {
    "name": "ipython",
    "version": 3
   },
   "file_extension": ".py",
   "mimetype": "text/x-python",
   "name": "python",
   "nbconvert_exporter": "python",
   "pygments_lexer": "ipython3",
   "version": "3.7.9"
  }
 },
 "nbformat": 4,
 "nbformat_minor": 4
}
