{
 "cells": [
  {
   "cell_type": "markdown",
   "metadata": {},
   "source": [
    "[Digital Mathematics Curriculum](http://wikieducator.org/Digital_Math)\n",
    "\n",
    "<a data-flickr-embed=\"true\"  href=\"https://www.flickr.com/photos/kirbyurner/17113727766/in/album-72157649641476063/\" title=\"DSCF7138\"><img src=\"https://farm8.staticflickr.com/7679/17113727766_3e5dd90ab8_z.jpg\" width=\"480\" height=\"640\" alt=\"DSCF7138\"></a><script async src=\"//embedr.flickr.com/assets/client-code.js\" charset=\"utf-8\"></script>\n",
    "\n",
    "# Casino Math\n",
    "\n",
    "Casino Math, like Martian Math, might be renamed in your region, given many ethnic groups place moral restrictions against gambling. \n",
    "\n",
    "In our own bioregion, games of chance were used by the various local sovereignties to raise funds (e.g. Grand Ronde, Tulalip, Stillaguamish), most especially for education, so we considered it hypocritical to not discuss this openly in a curriculum context. \n",
    "\n",
    "Sharing realistically about \"the odds\" is in itself a deterrent to unwise risk taking. \n",
    "\n",
    "This domain might explore, at various levels of sophistication:\n",
    "\n",
    "*  Artificial Intelligence\n",
    "*  Anticipating Trends\n",
    "*  Bayesian Statistics\n",
    "*  Big Data\n",
    "*  Binomial Distribution, other Probability Functions\n",
    "*  Cumulative Distribution Functions\n",
    "*  Frequency Based Statistics\n",
    "*  Game Design\n",
    "*  Global Climate Change\n",
    "*  General Systems Theory\n",
    "*  Investing / Storyboarding\n",
    "*  Machine Learning\n",
    "*  Modeling\n",
    "*  Permutations\n",
    "*  Philanthropy\n",
    "*  Predication from Models\n",
    "*  Probability\n",
    "*  Risk Assessment"
   ]
  },
  {
   "cell_type": "code",
   "execution_count": 4,
   "metadata": {
    "collapsed": true,
    "jupyter": {
     "outputs_hidden": true
    }
   },
   "outputs": [],
   "source": [
    "%matplotlib inline\n",
    "import numpy as np\n",
    "import scipy.stats as st\n",
    "import matplotlib.pyplot as plt"
   ]
  },
  {
   "cell_type": "code",
   "execution_count": 5,
   "metadata": {},
   "outputs": [
    {
     "data": {
      "image/png": "[encoded data removed]",
      "text/plain": [
       "<matplotlib.figure.Figure at 0x1a12da3f60>"
      ]
     },
     "metadata": {},
     "output_type": "display_data"
    }
   ],
   "source": [
    "domain = np.linspace(0, 200, 3000)\n",
    "IQ = st.norm.pdf(domain, 100, 15)\n",
    "plt.plot(domain, IQ, color = \"red\");"
   ]
  },
  {
   "cell_type": "markdown",
   "metadata": {},
   "source": [
    "[More Casino Math on Wikieducator](https://wikieducator.org/Casino_Math)"
   ]
  }
 ],
 "metadata": {
  "kernelspec": {
   "display_name": "Python 3",
   "language": "python",
   "name": "python3"
  },
  "language_info": {
   "codemirror_mode": {
    "name": "ipython",
    "version": 3
   },
   "file_extension": ".py",
   "mimetype": "text/x-python",
   "name": "python",
   "nbconvert_exporter": "python",
   "pygments_lexer": "ipython3",
   "version": "3.7.9"
  }
 },
 "nbformat": 4,
 "nbformat_minor": 4
}
