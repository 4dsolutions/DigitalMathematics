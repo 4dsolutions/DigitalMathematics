{
 "cells": [
  {
   "cell_type": "markdown",
   "metadata": {},
   "source": [
    "[Digital Mathematics Curriculum](http://wikieducator.org/Digital_Math)\n",
    "\n",
    "<a data-flickr-embed=\"true\"  href=\"https://www.flickr.com/photos/kirbyurner/44635615582/in/dateposted-public/\" title=\"Market of Choice, Multnomah County\"><img src=\"https://farm2.staticflickr.com/1860/44635615582_06d1244287_z.jpg\" width=\"640\" height=\"480\" alt=\"Market of Choice, Multnomah County\"></a><script async src=\"//embedr.flickr.com/assets/client-code.js\" charset=\"utf-8\"></script>\n",
    "\n",
    "# Supermarket Math\n",
    "\n",
    "Supermarket Math advances the notion that the basics of the Internet and e-commerce should be explained, with Structured Query Language at least introduced to advance the storytelling, to make it real. These basics may be shared with or without access to computers, however given the Silicon Forest context, some computer and Internet use is presumed. \n",
    "\n",
    "This domain might explore, at various levels of sophistication:\n",
    "\n",
    "* Advertising\n",
    "* Barcode and QR-code recognition, UPC codes\n",
    "* Color Theory\n",
    "* Cryptography for eCommerce\n",
    "* Data Science\n",
    "* Food Production and Storage\n",
    "* Health and Diet\n",
    "* HTML / CSS / JS\n",
    "* Global Climate Change\n",
    "* General Systems Theory\n",
    "* Pricing (Discounting, Profit Margin)\n",
    "* Recipe Following\n",
    "* Safe Food Handling\n",
    "* SQL (Structured Query Language), noSQL\n",
    "* Supply Chain Management\n",
    "* Transportation Infrastructure\n",
    "* Warehouse Logistics\n",
    "* Website Development"
   ]
  },
  {
   "cell_type": "code",
   "execution_count": 2,
   "metadata": {},
   "outputs": [],
   "source": [
    "import shopping_v4 as shop"
   ]
  },
  {
   "cell_type": "code",
   "execution_count": 3,
   "metadata": {},
   "outputs": [
    {
     "name": "stdout",
     "output_type": "stream",
     "text": [
      "Loading inventory...\n",
      "Kirby: 970.06; {'Snicker-Snacks': 2, \"Polly's Peanuts\": 2, 'Dr. Soap': 2}\n",
      "{'Snicker-Snacks': [5.99, 8], \"Polly's Peanuts\": [3.99, 8], 'Dr. Soap': [4.99, 8]}\n",
      "SuperMarket with cash: 29.94\n",
      "Saving inventory...\n"
     ]
    }
   ],
   "source": [
    "shop.simulation()"
   ]
  },
  {
   "cell_type": "markdown",
   "metadata": {},
   "source": [
    "[SuperMarket Math on Wikieducator](https://wikieducator.org/Supermarket_Math)"
   ]
  }
 ],
 "metadata": {
  "kernelspec": {
   "display_name": "Python 3 (ipykernel)",
   "language": "python",
   "name": "python3"
  },
  "language_info": {
   "codemirror_mode": {
    "name": "ipython",
    "version": 3
   },
   "file_extension": ".py",
   "mimetype": "text/x-python",
   "name": "python",
   "nbconvert_exporter": "python",
   "pygments_lexer": "ipython3",
   "version": "3.7.9"
  }
 },
 "nbformat": 4,
 "nbformat_minor": 4
}
