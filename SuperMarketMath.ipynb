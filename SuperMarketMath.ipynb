{
 "cells": [
  {
   "cell_type": "markdown",
   "metadata": {},
   "source": [
    "[Digital Mathematics Curriculum](http://wikieducator.org/Digital_Math)\n",
    "\n",
    "<a data-flickr-embed=\"true\"  href=\"https://www.flickr.com/photos/kirbyurner/44635615582/in/dateposted-public/\" title=\"Market of Choice, Multnomah County\"><img src=\"https://farm2.staticflickr.com/1860/44635615582_06d1244287_z.jpg\" width=\"640\" height=\"480\" alt=\"Market of Choice, Multnomah County\"></a><script async src=\"//embedr.flickr.com/assets/client-code.js\" charset=\"utf-8\"></script>\n",
    "\n",
    "# Supermarket Math\n",
    "\n",
    "Supermarket Math advances the notion that the basics of the Internet and e-commerce should be explained, with Structured Query Language at least introduced to advance the storytelling, to make it real. These basics may be shared with or without access to computers, however given the Silicon Forest context, some computer and Internet use is presumed. "
   ]
  },
  {
   "cell_type": "code",
   "execution_count": 1,
   "metadata": {
    "collapsed": true
   },
   "outputs": [],
   "source": [
    "import json\n",
    "\n",
    "class NoMoney(Exception):\n",
    "    pass\n",
    "\n",
    "class OutOfStock(Exception):\n",
    "    pass\n",
    "\n",
    "class SuperMarket:\n",
    "    \"\"\"\n",
    "    Persists buyable items in a json file.\n",
    "    Initializes with 0 cash\n",
    "    \"\"\"\n",
    "    \n",
    "    def __init__(self):\n",
    "        self.inventory = Inventory(\"the_stuff.json\")\n",
    "        self.cash = 0\n",
    "        \n",
    "    def buy(self, shopper, item, how_many):\n",
    "        \"\"\"\n",
    "        remove money from shopper wallet, add qty of item\n",
    "        to basket, abort if customer short on cash\n",
    "        \"\"\"\n",
    "        if item in self.inventory.wares: # check keys\n",
    "            price = self.inventory.wares[item][0]\n",
    "            try:\n",
    "                shopper.add_item(item, price, how_many)\n",
    "                self.inventory.remove_item(item, how_many)\n",
    "                self.cash += price * how_many\n",
    "            except NoMoney:\n",
    "                # print(\"Customer out of money\")\n",
    "                raise  # re-raise exception\n",
    "            except OutOfStock:\n",
    "                # print(\"Don't have enough in stock\")\n",
    "                raise\n",
    "\n",
    "    def close(self):\n",
    "        \"\"\"\n",
    "        write json file\n",
    "        \"\"\"\n",
    "        self.inventory.save_items()\n",
    "        \n",
    "    def __repr__(self):\n",
    "        return \"SuperMarket with cash: {}\".format(self.cash)\n",
    "     "
   ]
  }
 ],
 "metadata": {
  "kernelspec": {
   "display_name": "Python 3",
   "language": "python",
   "name": "python3"
  },
  "language_info": {
   "codemirror_mode": {
    "name": "ipython",
    "version": 3
   },
   "file_extension": ".py",
   "mimetype": "text/x-python",
   "name": "python",
   "nbconvert_exporter": "python",
   "pygments_lexer": "ipython3",
   "version": "3.6.4"
  }
 },
 "nbformat": 4,
 "nbformat_minor": 2
}
