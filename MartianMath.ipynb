{
 "cells": [
  {
   "cell_type": "markdown",
   "metadata": {},
   "source": [
    "[Digital Mathematics Curriculum](http://wikieducator.org/Digital_Math)\n",
    "\n",
    "<a data-flickr-embed=\"true\"  href=\"https://www.flickr.com/photos/kirbyurner/43027738942/in/album-72157695209731812/\" title=\"P1050696\"><img src=\"https://farm2.staticflickr.com/1764/43027738942_9f1de39507_z.jpg\" width=\"640\" height=\"427\" alt=\"P1050696\"></a><script async src=\"//embedr.flickr.com/assets/client-code.js\" charset=\"utf-8\"></script>\n",
    "\n",
    "# Martian Math\n",
    "\n",
    "Lets look into the future and speculate about where math is taking us.\n",
    "\n",
    "Our work includes identifying important trending topics, and learning to catch up on various stories.  What is the largest prime number so far discovered and how was it discovered?  What technologies are helping us with maths?  How do we expect these technologies to have an impact.  What are the ethical implications?\n",
    "\n",
    "This Martian Math component is especially influenced by some late 1900s pedagogical innovations in spatial geometry regarded as too radical to include in the mass marketed textbooks well into the 21st century.  What were the risks, looking back?"
   ]
  },
  {
   "cell_type": "code",
   "execution_count": 1,
   "metadata": {},
   "outputs": [
    {
     "name": "stdout",
     "output_type": "stream",
     "text": [
      "Volume of SuperRT :  21.213203\n",
      "Volume of Cubocta :  20.000000\n",
      "Volume of Icosa   :  18.512296\n",
      "Volume of Octa    :   4.000000\n",
      "Volume of Cube    :   3.000000\n",
      "Volume of Tetra   :   1.000000\n",
      "Emod3             :   0.176777\n",
      "Emod              :   0.041731\n",
      "emod3             :   0.009851\n",
      "--------------------\n",
      "Smod              :   0.045085\n",
      "Smod              :   0.045085\n"
     ]
    }
   ],
   "source": [
    "\"\"\"\n",
    "From David Koski's paper:\n",
    "\n",
    "Revisiting R.B. Fuller's S & E Modules\n",
    "\n",
    "--------\n",
    "The concentric hierarchy can be described in terms of \n",
    "phi-scaled S modules: \n",
    "\n",
    "Tetrahedron:  21S +  5s3 =  5S3 + 1S = 1S6 + 1S3 \n",
    "Cube       :  72S + 15s3 = 15S3 + 3S = 3S6 + 3S3 \n",
    "Octahedron :  84S + 20s3 = 20S3 + 4S = 4S6 + 4S3 \n",
    "Rh Triac   : 105S + 25s3 = 25S3 + 5S = 5S6 + 5S3 (volume = 5) \n",
    "Rh Dodec   : 126S + 30s3 = 30S3 + 6S = 6S6 + 6S3\n",
    "--------\n",
    "\n",
    "On-line:  http://coffeeshopsnet.blogspot.com/2017/06/koski-paper.html\n",
    "\"\"\"\n",
    "from math import sqrt as rt2\n",
    "\n",
    "φ  = (rt2(5)+1)/2      # golden ratio\n",
    "S3 = rt2(9/8)          # not to be confused with Smod\n",
    "\n",
    "Smod = (φ **-5)/2      # home base Smod\n",
    "smod3 = Smod  * φ**-3  # small s, phi down\n",
    "Smod3 = Smod  * φ**3   # capital s, phi up\n",
    "Smod6 = Smod3 * φ**3   # phi up yet again\n",
    "\n",
    "cubocta = 20\n",
    "SuperRT = S3 * cubocta\n",
    "\n",
    "Emod3 = SuperRT / 120          # Emod phi up\n",
    "Emod = (rt2(2)/8) * (φ ** -3)  # home base Emod\n",
    "emod3 = Emod * φ ** -3         # Emod phi down\n",
    "\n",
    "\n",
    "\n",
    "print(\"Volume of SuperRT : {:10.6f}\".format(SuperRT))\n",
    "print(\"Volume of Cubocta : {:10.6f}\".format(cubocta))\n",
    "# print(\"Volume of Icosa   : {:10.6f}\".format(20 * 1/S_factor))\n",
    "# print(\"Volume of Icosa   : {:10.6f}\".format(420 * Emod + 100 * emod3))\n",
    "print(\"Volume of Icosa   : {:10.6f}\".format(100*Emod3 + 20*Emod))\n",
    "print(\"Volume of Octa    : {:10.6f}\".format(4*Smod6 + 4*Smod3))\n",
    "print(\"Volume of Cube    : {:10.6f}\".format(3*Smod6 + 3*Smod3))\n",
    "print(\"Volume of Tetra   : {:10.6f}\".format(5*Smod3 + Smod))\n",
    "\n",
    "\n",
    "print(\"Emod3             : {:10.6f}\".format(Emod3)) \n",
    "print(\"Emod              : {:10.6f}\".format(Emod)) \n",
    "print(\"emod3             : {:10.6f}\".format(emod3)) \n",
    "\n",
    "# DEMO 2\n",
    "print(\"-\" * 20)\n",
    "\n",
    "S_factor = Smod / Emod\n",
    "Smod = (φ **-5)/2      # home base Smod\n",
    "\n",
    "SmallVE = 20 * 1/8  # half D edges (=R)\n",
    "SkewIcosa = SmallVE * S_factor * S_factor\n",
    "Octa = 4\n",
    "Smod_check = (Octa - SkewIcosa)/24\n",
    "print(\"Smod              : {:10.6f}\".format(Smod))\n",
    "print(\"Smod              : {:10.6f}\".format(Smod_check))\n"
   ]
  },
  {
   "cell_type": "markdown",
   "metadata": {},
   "source": [
    "[Martian Math on Wikieducator](https://wikieducator.org/Martian_Math)"
   ]
  }
 ],
 "metadata": {
  "kernelspec": {
   "display_name": "Python 3",
   "language": "python",
   "name": "python3"
  },
  "language_info": {
   "codemirror_mode": {
    "name": "ipython",
    "version": 3
   },
   "file_extension": ".py",
   "mimetype": "text/x-python",
   "name": "python",
   "nbconvert_exporter": "python",
   "pygments_lexer": "ipython3",
   "version": "3.7.9"
  }
 },
 "nbformat": 4,
 "nbformat_minor": 4
}
