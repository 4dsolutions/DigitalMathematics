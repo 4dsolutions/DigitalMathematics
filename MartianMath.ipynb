{
 "cells": [
  {
   "cell_type": "markdown",
   "metadata": {},
   "source": [
    "[Digital Mathematics Curriculum](http://wikieducator.org/Digital_Math)\n",
    "\n",
    "<a data-flickr-embed=\"true\"  href=\"https://www.flickr.com/photos/kirbyurner/43027738942/in/album-72157695209731812/\" title=\"P1050696\"><img src=\"https://farm2.staticflickr.com/1764/43027738942_9f1de39507_z.jpg\" width=\"640\" height=\"427\" alt=\"P1050696\"></a><script async src=\"//embedr.flickr.com/assets/client-code.js\" charset=\"utf-8\"></script>\n",
    "\n",
    "# Synergetics\n",
    "\n",
    "\"Synergetics\" is the name Fuller eventually gave to his life-long philosophical explorations, which were distilled into a two-volume magnum opus, *Synergetics* and *Synergetics 2*, published by Macmillan in 1975 and 1979 respectively, with softcover editions, and a posthumous web-based edition to follow.  The process of distilling and publishing the two volumes was undertaken in collaboration with [E.J. Applewhite](http://www.grunch.net/synergetics/applewhites.html), who wrote *Cosmic Fishing* to chronicle their adventure.  Dr. Arthur Loeb, crystallographer and Renaissance Man in his own right, wrote the Preface.\n",
    "\n",
    "<a data-flickr-embed=\"true\" href=\"https://www.flickr.com/photos/kirbyurner/3005064170/in/album-72157612330643992/\" title=\"Fuller Syllabus\"><img src=\"https://live.staticflickr.com/3252/3005064170_8fd4ff6631.jpg\" width=\"500\" height=\"375\" alt=\"Fuller Syllabus\"></a><script async src=\"//embedr.flickr.com/assets/client-code.js\" charset=\"utf-8\"></script>\n",
    "\n",
    "At the core of Synergetics is Fuller's critique of ancient Greek metaphysics and its right-angled orthodoxies. He emphasizes the topological and structural advantages of the tetrahedron (simpler, stronger) over the cube, and devises a system of geometric relationships in the form of nested polyhedra dubbed \"the concentric hierarchy\" with the tetrahedron as his unit of volume.  His vocabulary is deliberately remote (250.30) as he seeks to relate tension, syntropy and gravity to their complements: compression, entropy and radiation.\n",
    "\n",
    "Fuller regarded his \"explorations in the geometry of thinking\" (the book's subtitle) as the principle source of his inventions and a direct result of his commitment, undertaken in 1927, to serve humanity as a whole, a goal which necessitated a deep rethinking of our shared predicament and prospects aboard Spaceship Earth.  In retrospect, we see Fuller was in tune with the zeitgeist in terms of the topics he focused on:  sphere packing, space filling, vectorial energy models, topology, tensegrity, geodesic spheres and domes.  \n",
    "\n",
    "Categorization of the work, in terms of genre, has proved elusive. Dr. Peter Suber of Earlham College eventually accepted it as a philosophy, based on Fuller's own conception of what it was: \n",
    "\n",
    "> The integration of geometry and philosophy in a single conceptual system providing a common language and accounting for both the physical and metaphysical. (251.50)"
   ]
  },
  {
   "cell_type": "markdown",
   "metadata": {},
   "source": [
    "### Polyhedrons = Networks = Graphs\n",
    "\n",
    "The ephemeralization of polyhedrons is noted by Peter Cromwell in his book *Polyhedra*.  From solids, they became wireframes, and wireframes, of nodes and edges, define graphs, likewise networks.\n",
    "\n",
    "<a data-flickr-embed=\"true\" href=\"https://www.flickr.com/photos/kirbyurner/3175452271/in/album-72157612330643992/\" title=\"Reference Books\"><img src=\"https://live.staticflickr.com/3340/3175452271_2b26da864f_w.jpg\" width=\"300\" height=\"400\" alt=\"Reference Books\"></a><script async src=\"//embedr.flickr.com/assets/client-code.js\" charset=\"utf-8\"></script>"
   ]
  },
  {
   "cell_type": "markdown",
   "metadata": {},
   "source": [
    "### Omnidirectional Halo\n",
    "\n",
    "Synergetics is a geometric language pumped full of as much significance as possible. Getting all experiences to mean something in terms of geometry might seem undoable at first, but the tack is to get a view of thinking itself, to present the thinking process in terms of a geometric model. \n",
    "\n",
    "By thinking about thinking in terms of geometry, all thought content is thereby brought within its scope.\n",
    "\n",
    "The synergetics model of thinking is derived by analogy to the electromagnetic spectrum. It helps that we already have a vernacular wherein like-minded people are \"on the same wavelength\" and wherein ideas get \"tuned in\". In synergetics, the brain is the metaphorical \"TV transceiver\" wherein sense-relayed programs are presented to experience.\n",
    "\n",
    "> Thinking is FM -- frequency modulation -- for it results in tuning-out of irrelevancies as a result of definitive resolution of the exclusively tuned-in or accepted feed-back messages' pattern differentiability.  WDSD 1965-1975\n",
    "\n",
    "The electromagnetic spectrum as traditionally depicted in textbooks is a linear affair, from shortest to longest wavelengths. Synergetics depicts this continuum of shortest to longest as concentric spherical networks. \n",
    "\n",
    "The highest frequency systems are towards the center, whereas larger scale phenomena (e.g. the tiny slice of the spectrum visible to the naked eye) occupy middle to outer layers of the spectral onion.\n",
    "\n",
    "To think, then, is to highlight one spherical band within the continuum, to select a channel. Higher and lower bands are \"dismissed as irrelevant\" and/or included as \"twilight zone possibly relevant\" because, relative to the tuned-in system, these higher and lower frequency bands come across as mere noise and/or as tantalizingly full of clues.\n",
    "\n",
    "> Universe (as all-experience) is inherently omni-directional in its observational orientations -- ergo, the temporary putting-aside of the two classes of irrelevancies requires an omnidirectional putting aside which differentiates as an outwardly dismissed macro cosmic disposition of the too-large and too-infrequent conceptual informations and an inwardly dismissed residue set of all the too-miniscule and too-frequent events -- ergo, the lucidly tuned in, residually considerable set of event-foci. WDSD 1965-1975\n",
    "\n",
    "Too high a frequency might mean: too detailed, too trivial, too nitpicky, or literally too small to be sensed. Too low might mean: too general, too cosmic, or too spread apart in time and/or space to be noticably a part of the pattern currently under consideration (in focus). \n",
    "\n",
    "Amidst all the transceiver brain traffic, some thoughts are too fleeting, escaping before becoming incorporated, classified or organized within a larger system. Other thoughts are too long in dawning, by which time the train of thought to which they might have attached has long ago vanished over the horizon.\n",
    "\n",
    "<a data-flickr-embed=\"true\" href=\"https://www.flickr.com/photos/kirbyurner/51785386131/in/dateposted-public/\" title=\"Omnidirectional Halo\"><img src=\"https://live.staticflickr.com/65535/51785386131_dcfa21cd0f.jpg\" width=\"500\" height=\"323\" alt=\"Omnidirectional Halo\"></a><script async src=\"//embedr.flickr.com/assets/client-code.js\" charset=\"utf-8\"></script>\n",
    "\n",
    "The World Wide Web, with its page-events tensively intercohered by hypertext links, is topologically spherical in a literally geographic sense: the Web servers on which the pages are resident dot the globe, while activated links cause information to travel in a circumferential traffic pattern. "
   ]
  },
  {
   "cell_type": "markdown",
   "metadata": {},
   "source": [
    "### Sphere Packing\n",
    "\n",
    "Sphere packing connects to uniform point distributions ala the ideal gas model (Avogadro et al), and in Synergetics these lattices are especially easy to conceptualize starting from point masses at the sphere centers, potentially inter-connected by vectors or edges.\n",
    "\n",
    "<a data-flickr-embed=\"true\" href=\"https://www.flickr.com/photos/kirbyurner/33013528706/in/photolist-7kM3FK-SihXUN-DFodCy-9hrbAY-9ho3VF-6utUmi-5rFY8v\" title=\"octet_truss\"><img src=\"https://live.staticflickr.com/2426/33013528706_1292aa78f9_n.jpg\" width=\"320\" height=\"240\" alt=\"octet_truss\"></a><script async src=\"//embedr.flickr.com/assets/client-code.js\" charset=\"utf-8\"></script>\n",
    "\n",
    "Points of \"zero dimension\" are not considered \"ideal\" (see below).  Rather, they resolve into more details upon zooming in.\n",
    "\n",
    "The [OEIS sequence A005901](https://oeis.org/A005901) 1, 12, 42, 92... and it's [cumulative version A005902](https://oeis.org/A005902) jump out as easy topics in computer programming.\n",
    "\n",
    "*Linus Pauling archive, Oregon State University*:\n",
    "\n",
    "<a data-flickr-embed=\"true\" href=\"https://www.flickr.com/photos/kirbyurner/3049399298/in/album-72157612330643992/\" title=\"Cuboctahedral Packing\"><img src=\"https://live.staticflickr.com/3213/3049399298_3029466d95_w.jpg\" width=\"400\" height=\"300\" alt=\"Cuboctahedral Packing\"></a><script async src=\"//embedr.flickr.com/assets/client-code.js\" charset=\"utf-8\"></script>\n",
    "\n",
    "<a data-flickr-embed=\"true\" href=\"https://www.flickr.com/photos/kirbyurner/51522139740/in/photolist-dMGmVw-8oX85J-2muQr99-2msgzQd-2msj6xS-2mgJNog-2m44aqr-FMLvQQ-22yg9uX-NzckH4-EPg3Ag-CMbRqK-agu9Xx-8xp2z5-8vatB3-8ti2xi-8thDyL-6Wcvue-5QyKim/\" title=\"Growing Sphere Packing\"><img src=\"https://live.staticflickr.com/65535/51522139740_b16f97cc96_m.jpg\" width=\"225\" height=\"210\" alt=\"Growing Sphere Packing\"></a><script async src=\"//embedr.flickr.com/assets/client-code.js\" charset=\"utf-8\"></script>\n",
    "\n",
    "*The Book of Numbers* by Conway and Guy, and *Gnomon* by Midhat Gazalé suggest themselves at this point.  \n",
    "\n",
    "A goal is to keep going back and forth between lexical-algebraic and graphical-geometric treatments of the same number sequences, whether planar (\"2D\") or spatial (\"3D\").  For example the triangular and square number sequences are \"figurate\" (2D) whereas the tetrahedral and icosahedral sequences are \"polyhedral\" (3D)."
   ]
  },
  {
   "cell_type": "code",
   "execution_count": 1,
   "metadata": {},
   "outputs": [],
   "source": [
    "def cubocta(f : int):\n",
    "    \"\"\"\n",
    "    OEIS A005901\n",
    "    f >= 0\n",
    "    \"\"\"\n",
    "    if f==0: return 1\n",
    "    return 10 * f * f + 2\n",
    "\n",
    "def cubocta_accum(f : int):\n",
    "    \"\"\"\n",
    "    OEIS A005902\n",
    "    f >= 0    \n",
    "    \"\"\"\n",
    "    if f==0: return 1\n",
    "    return 10 * f * f + 2 + cubocta_accum(f-1) # recursive"
   ]
  },
  {
   "cell_type": "code",
   "execution_count": 2,
   "metadata": {},
   "outputs": [
    {
     "data": {
      "text/plain": [
       "[1, 12, 42, 92, 162, 252, 362, 492, 642, 812, 1002]"
      ]
     },
     "execution_count": 2,
     "metadata": {},
     "output_type": "execute_result"
    }
   ],
   "source": [
    "#OEIS A005901 \n",
    "[cubocta(x) for x in range(0, 11)]"
   ]
  },
  {
   "cell_type": "code",
   "execution_count": 3,
   "metadata": {},
   "outputs": [
    {
     "data": {
      "text/plain": [
       "[1, 13, 55, 147, 309, 561, 923, 1415, 2057, 2869, 3871]"
      ]
     },
     "execution_count": 3,
     "metadata": {},
     "output_type": "execute_result"
    }
   ],
   "source": [
    "#OEIS A005902 \n",
    "[cubocta_accum(x) for x in range(0, 11)]"
   ]
  },
  {
   "cell_type": "markdown",
   "metadata": {},
   "source": [
    "In the namespace of Synergetics, it's also OK to say \"4D\" to mean anything \"prefrequency\" (eternal, independent of scale).  The Platonic tetrahedron may be rolled out in a sheet (plane) or diminished to a speck (point), yet remains a container regardless of topology.  \n",
    "\n",
    "Making all geometric objects be \"lump like\" by axiom was suggested by [Karl Menger](https://coffeeshopsnet.blogspot.com/2009/03/res-extensa.html), independently.\n",
    "\n",
    "<a data-flickr-embed=\"true\" href=\"https://www.flickr.com/photos/kirbyurner/50730257471/in/photolist-2mNN4fv-2mN1YXc-2mfK74P-2khRQ8z-ckdBTo-5USpgv\" title=\"menger_dimension\"><img src=\"https://live.staticflickr.com/65535/50730257471_c583a1a717.jpg\" width=\"500\" height=\"264\" alt=\"menger_dimension\"></a><script async src=\"//embedr.flickr.com/assets/client-code.js\" charset=\"utf-8\"></script>\n",
    "\n",
    "But then \"time is the only dimension\" in another sense (energetic).  This would be the 4D+ universe of Platonic forms plus frequency, or angle and frequency.  Angles define shapes, whereas frequency situates them in a more parameterized conceptual space, relatively sized, with time passing.\n",
    "\n",
    "> Time is size and size is time. Time is the only dimension. In synergetics time-size is expressible as frequency. (960.03)\n",
    "\n",
    "\"Dimension\" is a slippery notion to begin with, and relates to \"raising to powers\" (986.850).\n",
    "\n",
    "The sphere packing that coincides with what Fuller dubs the \"isotropic vector matrix\" (or \"octet truss\") is the well-known and much studied CCP (cubic close packing), nowadays proved a *closest* packing (~74% density).  Other packing patterns (e.g. SCP, BCC) may be defined with reference to this \"home base\" matrix."
   ]
  },
  {
   "cell_type": "markdown",
   "metadata": {},
   "source": [
    "### Concentric Hierarchy\n",
    "\n",
    "<a data-flickr-embed=\"true\" href=\"https://www.flickr.com/photos/kirbyurner/51493803050/in/photolist-2msgpP9-2mskcCw-XvSatr-9dBJbo-9dqru5-8rBHhG-8ryEix-8rBHYW-7DSum6-7jw8zp-6XSpXY-2ypHhr\" title=\"concentric_hierarchy\"><img src=\"https://live.staticflickr.com/65535/51493803050_c1923b3ff5.jpg\" width=\"500\" height=\"375\" alt=\"concentric_hierarchy\"></a><script async src=\"//embedr.flickr.com/assets/client-code.js\" charset=\"utf-8\"></script>\n",
    "\n",
    "Four equi-radius spheres pack inter-tangently to form a tetrahedron.  More pack to form other shapes, or the same shapes with higher frequency.  \n",
    "\n",
    "We're back to the lexical and graphical rules of Sphere Packing, however now we're building a schematic around the concept of volume in particular, with the tetrahedron as unit volume.\n",
    "\n",
    "The Python program below expresses the volumes of well-known and more special-to-Synergetics shapes, in terms of \"tetravolumes\" meaning a unit tetrahedron, defined by four IVM balls of unit radius (their interconnecting centers).\n",
    "\n",
    "The S and E modules are well-defined in Synergetics, in terms of plane nets, volume, and where they fit in the concentric hierarchy.  Since publication of the *Synergetics* + *Synergetics 2*, David Koski has analyzed these polyhedron volumes in terms of phi-scaled S and E modules, not just A and B modules.\n",
    "\n",
    "The Python program source code itself, which prints a table, explains the nomenclature around s3, S, S3, E, E6 and so on, in terms of phi scaling.  \n",
    "\n",
    "These volume equivalencies connote \"pouring a liquid\" or \"reshaping clay\" i.e. the modules do not necessarily assemble as would hard wood puzzle pieces (although sometimes that's feasible)."
   ]
  },
  {
   "cell_type": "code",
   "execution_count": 4,
   "metadata": {},
   "outputs": [
    {
     "name": "stdout",
     "output_type": "stream",
     "text": [
      " \n",
      "Shape                Tetravolume\n",
      "--------------------------------------------------------\n",
      "SuperRT           :  21.213203\n",
      "Cuboctahedron     :  20.000000\n",
      "Icosahedron       :  18.512296 (Platonic)\n",
      "Pent_Dodecahedron :  15.350018 (Platonic)\n",
      "Rh_Triac_RD       :   7.500000 (shares verts with RD)\n",
      "Rh_Dodecahedron   :   6.000000 (space-filler)\n",
      "Rh_Triac_E        :   5.007758 (120 Es)\n",
      "Rh_Triac_T        :   5.000000 (120 Ts)\n",
      "Sphere            :   4.442883 (theoretical)\n",
      "Octahedron        :   4.000000 (Platonic)\n",
      "Cube              :   3.000000 (Platonic)\n",
      "Tetrahedron       :   1.000000 (Platonic)\n",
      "--------------------------------------------------------\n",
      "E3                :   0.176777 (phi up) \n",
      "E                 :   0.041731 (base)\n",
      "T                 :   0.041667 (1/24 same as A & B)\n",
      "e3                :   0.009851 (phi down) \n",
      "\n",
      "S3                :   0.190983 (phi up) \n",
      "S                 :   0.045085 (base) \n",
      "s3                :   0.010643 (phi down)\n",
      "--------------------------------------------------------\n",
      "S                 :   0.045085\n",
      "S check           :   0.045085\n"
     ]
    }
   ],
   "source": [
    "\"\"\"\n",
    "The concentric hierarchy can be described in terms of phi-scaled S & E modules: \n",
    "\n",
    "Tetrahedron :   1S6 +  1S3 \n",
    "Cube        :   3S6 +  3S3 \n",
    "Octahedron  :   4S6 +  4S3 \n",
    "Rh Triac    :   5S6 +  5S3 \n",
    "Rh Dodec    :   6S6 +  6S3\n",
    "Icoashedron : 120E3 +  20E\n",
    "Dodecahedron:  84E3 +  12E\n",
    "VE          :  420S + 100s3\n",
    "SuperRT     :  480E + 120e3\n",
    "--------\n",
    "\n",
    "From David Koski's paper:  Revisiting R.B. Fuller's S & E Modules\n",
    "On-line:  http://coffeeshopsnet.blogspot.com/2017/06/koski-paper.html\n",
    "\"\"\"\n",
    "from math import sqrt as rt2, pi as π\n",
    "\n",
    "φ      = (rt2(5)+1)/2      # golden ratio\n",
    "Syn3   = rt2(9/8)          # not to be confused with Smod\n",
    "Sphere = (4/3) * π * Syn3  # converting to tetravolumes\n",
    "\n",
    "S  = (φ **-5)/2       # home base Smod\n",
    "s3 = S  * φ**-3       # small s, phi down\n",
    "S3 = S  * φ**3        # capital s, phi up\n",
    "S6 = S3 * φ**3        # phi up yet again\n",
    "\n",
    "E3 = (rt2(2)/8)       # Emod phi up\n",
    "E  = E3 * (φ**-3)     # home base Emod\n",
    "e3 = E * φ**-3        # Emod phi down\n",
    "\n",
    "T  = A = B = 1/24     # see Wikipedia for A & B mod decompositions\n",
    "\n",
    "Tetrahedron       =   1*S6 +   1*S3 \n",
    "Cube              =   3*S6 +   3*S3 \n",
    "Octahedron        =   4*S6 +   4*S3 \n",
    "Rh_Triac_T        =   5*S6 +   5*S3 # (volume = 5) \n",
    "Rh_Triac_E        = 120*E\n",
    "Pent_Dodecahedron =  84*E3 +  12*E\n",
    "Rh_Dodecahedron   =   6*S6 +   6*S3\n",
    "Rh_Triac_RD       = (3/2)*Rh_Triac_T\n",
    "Icosahedron       = 100*E3 +  20*E\n",
    "Cuboctahedron     =  20*S6 +  20*S3\n",
    "SuperRT           = 120*E3\n",
    "\n",
    "print(f\"\"\" \n",
    "Shape                Tetravolume\n",
    "--------------------------------------------------------\n",
    "SuperRT           : {SuperRT:10.6f}\n",
    "Cuboctahedron     : {Cuboctahedron:10.6f}\n",
    "Icosahedron       : {Icosahedron:10.6f} (Platonic)\n",
    "Pent_Dodecahedron : {Pent_Dodecahedron:10.6f} (Platonic)\n",
    "Rh_Triac_RD       : {Rh_Triac_RD:10.6f} (shares verts with RD)\n",
    "Rh_Dodecahedron   : {Rh_Dodecahedron:10.6f} (space-filler)\n",
    "Rh_Triac_E        : {Rh_Triac_E:10.6f} (120 Es)\n",
    "Rh_Triac_T        : {Rh_Triac_T:10.6f} (120 Ts)\n",
    "Sphere            : {Sphere:10.6f} (theoretical)\n",
    "Octahedron        : {Octahedron:10.6f} (Platonic)\n",
    "Cube              : {Cube:10.6f} (Platonic)\n",
    "Tetrahedron       : {Tetrahedron:10.6f} (Platonic)\"\"\")\n",
    "\n",
    "print(f\"\"\"\\\n",
    "--------------------------------------------------------\n",
    "E3                : {E3:10.6f} (phi up) \n",
    "E                 : { E:10.6f} (base)\n",
    "T                 : { T:10.6f} (1/24 same as A & B)\n",
    "e3                : {e3:10.6f} (phi down) \n",
    "\n",
    "S3                : {S3:10.6f} (phi up) \n",
    "S                 : { S:10.6f} (base) \n",
    "s3                : {s3:10.6f} (phi down)\n",
    "--------------------------------------------------------\"\"\")\n",
    "\n",
    "# https://github.com/4dsolutions/Python5/blob/master/S_Train.ipynb\n",
    "S_factor   = S/E\n",
    "SmallVE    = 20 * 1/8  # half D edges (=R)\n",
    "SkewIcosa  = SmallVE * S_factor * S_factor\n",
    "S_check    = (Octahedron - SkewIcosa)/24\n",
    "print(f\"S                 : {S:10.6f}\")\n",
    "print(f\"S check           : {S_check:10.6f}\")"
   ]
  },
  {
   "cell_type": "markdown",
   "metadata": {},
   "source": [
    "From *Synergetics*:  Rhombic Triacontahedron (RT) made of 120 T or E modules (indistinguishable at this scale):\n",
    "\n",
    "<a data-flickr-embed=\"true\" href=\"https://www.flickr.com/photos/kirbyurner/4148457444/in/photolist-7jzVSm-97TTvV-7aEsJY-5zY9iA\" title=\"Rhombic Triacontahedron\"><img src=\"https://live.staticflickr.com/2662/4148457444_60e88eee55_w.jpg\" width=\"400\" height=\"312\" alt=\"Rhombic Triacontahedron\"></a><script async src=\"//embedr.flickr.com/assets/client-code.js\" charset=\"utf-8\"></script>\n",
    "\n",
    "Synergetics includes passages about how \"nature is not using π\", meaning physical processes do not depend on a level of precision below the threshold of quantum uncertainty.  The \"sphere\" remains a high frequency topologically detailed affair.\n",
    "\n",
    "Nature is not required to use \"real numbers\" as developed in conventional metaphysics.   The ideal is to approximate, rather than to be pseudo-precise.\n",
    "\n",
    "> Inasmuch as the kind of mathematics I had learned of in school required the use of the XYZ coordinate system and the necessity of placing π in calculating the spheres, I wondered, \"to how many decimal places does nature carry out π before she decides that the computation can't be concluded?\" Next I wondered, \"to how many aribtrary decimal places does nature carry out the transcendental irrational before she decides to say it's a bad job and call it off?\" If nature uses π she has to do what we call fudging of her design which means improvising, compromisingly. I thought sympathetically of nature's having to make all those myriad frustrated decisions each time she made a bubble. I didn't see how she managed to formulate the wake of every ship while managing the rest of the universe if she had to make all those decisions. So I said to myself, \"I don't think nature uses π. I think she has some other mathematical way of coordinating her undertakings."
   ]
  },
  {
   "cell_type": "markdown",
   "metadata": {},
   "source": [
    "Another version of the concentric hierarchy table, from [Wikipedia](https://en.wikipedia.org/wiki/Synergetics_(Fuller).\n",
    "\n",
    "<a data-flickr-embed=\"true\" href=\"https://www.flickr.com/photos/kirbyurner/51804664503/in/dateposted-public/\" title=\"wikipedia_volumes_table\"><img src=\"https://live.staticflickr.com/65535/51804664503_63e3407cba_z.jpg\" width=\"640\" height=\"395\" alt=\"wikipedia_volumes_table\"></a><script async src=\"//embedr.flickr.com/assets/client-code.js\" charset=\"utf-8\"></script>"
   ]
  },
  {
   "cell_type": "markdown",
   "metadata": {},
   "source": [
    "### High Precision Sandbox\n",
    "\n",
    "<a data-flickr-embed=\"true\" href=\"https://www.flickr.com/photos/kirbyurner/6335726352/in/album-72157612330643992/\" title=\"S Module\"><img src=\"https://live.staticflickr.com/6114/6335726352_902009df40.jpg\" width=\"500\" height=\"441\" alt=\"S Module\"></a><script async src=\"//embedr.flickr.com/assets/client-code.js\" charset=\"utf-8\"></script>\n",
    "\n",
    "Let's verify, using a high precision type (higher than floating point), that two applications of the Sfactor to the cuboctahedron of 2.5, nested in the volume 4 octahedron, nets the icosahedron likewise embedded (as faces flush), such that adding 24 S modules gives the octahedron itself.\n",
    "\n",
    "From Figure 988.00 in Synergetics:\n",
    "\n",
    "<a data-flickr-embed=\"true\"  href=\"https://www.flickr.com/photos/kirbyurner/46319721512/in/dateposted-public/\" title=\"Skew Relationship\"><img src=\"https://farm5.staticflickr.com/4827/46319721512_e1f04c3ca2.jpg\" width=\"500\" height=\"272\" alt=\"Skew Relationship\"></a><script async src=\"//embedr.flickr.com/assets/client-code.js\" charset=\"utf-8\"></script>\n",
    "\n",
    "<div align=\"center\">Cuboctahedron (2.5) and Icosahedron (~2.91796)<br /> both with faces flush to Octahedron of volume 4</div>\n",
    "<br />"
   ]
  },
  {
   "cell_type": "code",
   "execution_count": 5,
   "metadata": {},
   "outputs": [
    {
     "name": "stdout",
     "output_type": "stream",
     "text": [
      "sfactor:  1.080363026950905814406172628196375701989460486805627392673\n"
     ]
    }
   ],
   "source": [
    "import gmpy2\n",
    "gmpy2.get_context().precision=200\n",
    "\n",
    "root2 = gmpy2.sqrt(2)\n",
    "root7 = gmpy2.sqrt(7)\n",
    "root5 = gmpy2.sqrt(5)\n",
    "root3 = gmpy2.sqrt(3)\n",
    "\n",
    "# phi\n",
    "𝜙 = (gmpy2.sqrt(5) + 1)/2\n",
    "\n",
    "# Synergetics modules\n",
    "S = (𝜙 **-5)/2  \n",
    "E = (root2/8) * (𝜙 ** -3)\n",
    "\n",
    "S  = (φ **-5)/2       # home base Smod\n",
    "s3 = S  * φ**-3       # small s, phi down\n",
    "S3 = S  * φ**3        # capital s, phi up\n",
    "S6 = S3 * φ**3        # phi up yet again\n",
    "\n",
    "E3 = E * φ**3         # Emod phi up\n",
    "e3 = E * φ**-3        # Emod phi down\n",
    "\n",
    "sfactor = S/E\n",
    "print(\"sfactor: {:60.57}\".format(sfactor))"
   ]
  },
  {
   "cell_type": "code",
   "execution_count": 6,
   "metadata": {},
   "outputs": [
    {
     "data": {
      "text/plain": [
       "mpfr('5.007758031332838515932741440199835648703170828569810207562187',200)"
      ]
     },
     "execution_count": 6,
     "metadata": {},
     "output_type": "execute_result"
    }
   ],
   "source": [
    "120*E"
   ]
  },
  {
   "cell_type": "code",
   "execution_count": 7,
   "metadata": {},
   "outputs": [
    {
     "data": {
      "text/plain": [
       "mpfr('3.9999999999999999999999999999999999999999999999999999999999999999999999999999999999999999999999999999999999999999999999999999999999999999999999999999988',500)"
      ]
     },
     "execution_count": 7,
     "metadata": {},
     "output_type": "execute_result"
    }
   ],
   "source": [
    "gmpy2.get_context().precision=500\n",
    "root2 = gmpy2.sqrt(2)\n",
    "𝜙 = (gmpy2.sqrt(5) + 1)/2\n",
    "S  = (φ **-5)/2\n",
    "E = (root2/8) * (𝜙 ** -3)\n",
    "sfactor = S/E\n",
    "24*S + 2.5 * sfactor**2  # octahedron"
   ]
  },
  {
   "cell_type": "code",
   "execution_count": 8,
   "metadata": {},
   "outputs": [
    {
     "data": {
      "text/plain": [
       "mpfr('2.9179606750063091077247899380617129367814492116542282718730826376843722308658530175675677486365317509147547154767864948724019682665877840924091963539956',500)"
      ]
     },
     "execution_count": 8,
     "metadata": {},
     "output_type": "execute_result"
    }
   ],
   "source": [
    "2.5 * sfactor**2  # icosahedron"
   ]
  },
  {
   "cell_type": "markdown",
   "metadata": {},
   "source": [
    "### Jitterbug Transformation\n",
    "\n",
    "A twisting-contracting motion dynamically connects the concentric hierarchy polyhedrons, as various stations along the way. The cuboctahedron becomes the icosahedron, which in turn collapses to the octahedron, which may further simplify to the tetrahedron. \n",
    "\n",
    "Exactly how all this gets shown depends on the model used.\n",
    "\n",
    "Once scrunched down to a tetrahedron, the theme becomes one of inside-outing through a zero, and re-expanding inside \"Negative Universe\".  Exactly what \"Negative Universe\" might be good for remains open to speculation and/or application.  The oscillation between positive and negative convergence / divergence suggests a \"bow tie\" (⋈) or \"dorje\" pattern (1033.664), intuited by Fuller as early as 1927.\n",
    "\n",
    "<a data-flickr-embed=\"true\" href=\"https://www.flickr.com/photos/kirbyurner/8393394058/in/photolist-2cxE3aG-2cxE31d-2dz7FmY-dMGkCE-5y2HNo\" title=\"Jitterbug Transformation\"><img src=\"https://live.staticflickr.com/8195/8393394058_b096cc1e20.jpg\" width=\"500\" height=\"375\" alt=\"Jitterbug Transformation\"></a><script async src=\"//embedr.flickr.com/assets/client-code.js\" charset=\"utf-8\"></script>\n",
    "<br />\n",
    "<a data-flickr-embed=\"true\" href=\"https://www.flickr.com/photos/kirbyurner/8392298401/in/dateposted-public/\" title=\"Snazzy\"><img src=\"https://live.staticflickr.com/8096/8392298401_72299a4864_w.jpg\" width=\"400\" height=\"300\" alt=\"Snazzy\"></a><script async src=\"//embedr.flickr.com/assets/client-code.js\" charset=\"utf-8\"></script>"
   ]
  },
  {
   "cell_type": "markdown",
   "metadata": {},
   "source": [
    "### Spinning Polyhedrons\n",
    "\n",
    "Once the concentric hierarchy is established, around the Platonics and their dual combinations (e.g. octahedron + cube = rhombic dodecahedron, the cuboctahedron's dual), it's time to spin them around the obvious axes involving:  \n",
    "\n",
    "* opposite vertices\n",
    "* opposite face centers\n",
    "* opposite edge mid-points  \n",
    "\n",
    "The resulting great circles create characteristic and partially overlapping webs associated with each of the polyhedra.\n",
    "\n",
    "For example, the cuboctahedron with 12 nodes, 24 edges and 14 faces, is the source of 6 + 12 + 7 = 25 great circles.  The icosahedron, with 12 nodes, 30 edges, and 20 faces, defines 6 + 15 + 10 = 31 great circles. But then the Jitterbug may contract to an icosahedron in two chirally symmetrical ways, and these two networks may be superimposed, along with that of the cuboctahedron (1042.05). \n",
    "\n",
    "The spherical geometry of higher frequency networks provides the dimensional characteristics of spheres and domes.\n",
    "\n",
    "<a data-flickr-embed=\"true\" href=\"https://www.flickr.com/photos/kirbyurner/51745621666/in/dateposted-public/\" title=\"high_frequency_icosa\"><img src=\"https://live.staticflickr.com/65535/51745621666_dbdc12da48_m.jpg\" width=\"229\" height=\"220\" alt=\"high_frequency_icosa\"></a><script async src=\"//embedr.flickr.com/assets/client-code.js\" charset=\"utf-8\"></script>\n",
    "\n",
    "\n",
    "<pre>\n",
    "V = 10 ff + 2 (f = frequency)\n",
    "V + F = E + 2 (Euler's Law)\n",
    "N = V - 2     (defining non-polar)\n",
    "N:F:E = 1:2:3 (omnitriangulated)\n",
    "</pre>\n",
    "\n",
    "<a data-flickr-embed=\"true\" href=\"https://www.flickr.com/photos/kirbyurner/479693617/in/photolist-dNwXux-dNCkJo-8awBAd-6eHz8h-5mMmQs-5dtZZf-B2cFHb-uewShr-asp6T1-9PrhbC-968XYj-968XR1-8Y2GHU-8awCiL-6T5Wc5-6T5VTY-5N5phd-JoycB\" title=\"Models\"><img src=\"https://live.staticflickr.com/214/479693617_34a96d6edd_w.jpg\" width=\"400\" height=\"318\" alt=\"Models\"></a><script async src=\"//embedr.flickr.com/assets/client-code.js\" charset=\"utf-8\"></script>"
   ]
  },
  {
   "cell_type": "markdown",
   "metadata": {},
   "source": [
    "### Equilibrium and Tensegrity\n",
    "\n",
    "If the twenty-four edges of eight hinge-bonded tetrahedrons thrust away in 12 directions from a common center, to the twelve corners the cuboctahedron, and twenty-four edges connect circumferentially in tension, preventing further expansion, then we get a model of equilibrium in Synergetics, the so-called \"vector equilibrium\" (VE).\n",
    "\n",
    "The twisting-contracting motion of the Jitterbug Transformation turns the canonical cuboctahedron of volume 20, into the icosahedron of equal edge lengths and tetravolume ~18.512296.\n",
    "\n",
    "When the compression components are \"islanded\" i.e. not touching one another, as tension members bind them together in a static arrangement, we get a tensegrity.\n",
    "\n",
    "\"Tensegrity\" (coined by Fuller) provides a metaphoric model of a \"system\" (as in \"systemic\" and \"systematic\"), wherein time/size realized, energetic, tuned in, special case events occur in accordance with the exceptionless generalized principles running through and cohering them.\n",
    "\n",
    "> The eternal is omniembracing and permeative; and the temporal is linear. This opens up a very high order of generalizations of generalizations. The truth could not be more omni-important, although it is often manifestly operative only as a linear identification of a special-case experience on a specialized subject. (1005.52)\n",
    "\n",
    "> Truth is cosmically total: synergetic. Verities are generalized principles stated in semimetaphorical terms. Verities are differentiable. But love is omniembracing, omnicoherent, and omni-inclusive, with no exceptions. Love, like synergetics, is nondifferentiable, i. e., is integral. (1005.54)\n",
    "\n",
    "Tensegrity sculptures, furniture, bridges etc. as a literal reality, were pioneered by Kenneth Snelson and others. Sam Lanahan took us back to the lattice in the form of flextegrity.\n",
    "\n",
    "<a data-flickr-embed=\"true\" href=\"https://www.flickr.com/photos/kirbyurner/16336137955/in/photolist-2kr3uUr-2j9GiPD-2i3t5Vo-qTyYEX-wsqaNG-aCHqW2-9Y6HBS-7r36Bg-7r36EM-7r37aH-7h9itS-5NFMD4-5xXjWP-7L5wXK\" title=\"Tensegrity Favorite\"><img src=\"https://live.staticflickr.com/7504/16336137955_1d6b9bb889.jpg\" width=\"500\" height=\"375\" alt=\"Tensegrity Favorite\"></a><script async src=\"//embedr.flickr.com/assets/client-code.js\" charset=\"utf-8\"></script>"
   ]
  },
  {
   "cell_type": "markdown",
   "metadata": {
    "tags": []
   },
   "source": [
    "### An Assessment \n",
    "##### By Kirby Urner\n",
    "\n",
    "Calling *Synergetics* a Neoplatonic Metaphysics is not off the mark, but STEM is not Science only, and includes Mathematics, closer to Platonism than any empiricism.  \n",
    "\n",
    "There's a role for the *a priori*.  \n",
    "\n",
    "Some apologists keep insisting Synergetics is strictly empirical, which in this day and age tends to mean statistical and data driven, as well as experimental. Fuller favored the term *experiential* which includes the intuitive (e.g. flashes of insight, gestalt shifts). \n",
    "\n",
    "Synergetics accommodates the temporal special case, but does not reduce to a reductionism.  This anti-reductionist aspect of Synergetics is what some scientists object to, but in this respect they're not speaking for all of Science (e.g. \"teleological pressure\" may seem self evident to some lab workers), nor is *Synergetics* the only anti-reductionist philosophy out there; that these rifts and debates continue is predictable, based on their cultural inertia (momentum).\n",
    "\n",
    "> There are no solids. There are no things. There are only interfering and non-interfering patterns operative in pure principle, and principles are eternal. Principles never contradict principles. . . . The synergetic integral of the totality of principles is God, whose sum-total behavior in pure principle is beyond our comprehension and is utterly mysterious to us, because as humans — in pure principle — we do not and never will know all the principles. [Wikiquote](https://en.wikiquote.org/wiki/Buckminster_Fuller#Critical_Path_(1981))\n",
    "\n",
    "How we summarize and present material, how we optimize, hybridize and alloy the topics together, makes a difference. How well is one able to visualize?  Or empathize, at some global gut level?  What curricula offer training in that?\n",
    "\n",
    "Two teachers may have the same pile of Art & Science in front of them, to communicate to a next generation, but one of them is Bucky, and he gets students to consider sphere packing and polyhedrons early, when they're still young.  The other teacher shares the average, more mediocre stuff we sometimes mistake for the real deal and pushes polyhedrons off to the side somewhere, making sure they can't matter.  What will be the outcome?  \n",
    "\n",
    "The question is rhetorical as the experiment is not adequately specified, but my point is Synergetics has the potential to encourage a disciplined imagination much as logic does conventionally.\n",
    "\n",
    "I would echo a natural science professor in saying \"don't *just* read Synergetics\" but I would not say \"do not read *Synergetics*\" (implying it's a waste of time) i.e. I think Synergetics, a philosophy, a work in the humanities, continues to yield positive ideas worth exploring further and perhaps using architecturally, computationally, pedagogically, andragogically, or in some other way in service of this game we call \"the world\".  \n",
    "\n",
    "I don't think *Synergetics* + *Synergetics 2* should be treated as supremely authoritative, nor as the one and only subject one need study, as maybe too many treat their Bibles or whatever else they consider \"holy\" and/or \"infallible\".  \n",
    "\n",
    "Fuller felt he'd discovered a font, a fountain, a source, a cornucopia, a cosmic zero, and wanted to pass it on to coming generations.  He considered it critical that more of us mine in the same vein, invest in the same vortex.  He delivered his message with a sense of urgency, leaving bread crumbs (clues) everywhere he went.  Who would receive his communications?  That's always an open question.  The goal, from Fuller's viewpoint, was to maximize the chances others would.\n",
    "\n",
    "Per one of Fuller's last interviews, [with Patricia Ravasio](https://www.bookpassage.com/event/patricia-ravasio-girl-spaceship-earth-san-francisco), he had a premonition that his work would be sidelined and relegated to obscurity by the powers that be.  His \"world that works for everyone\" philosophy was at odds with the ideology of those planning to finally \"win the cold war\" against the Russians. \n",
    "\n",
    "I think Fuller was correct in his assessment -- hence my marketing his math-teaching innovations as \"verboten math\", and later \"Martian Math\" because still so alien -- which came amidst the demise of the USA as a democracy as recounted in his satirical *Grunch of Giants* (1983, St. Martin's Press), its publication coinciding with his receiving a Medal of Freedom from then president Reagan.\n",
    "\n",
    "> Quite clearly, our task is predominantly metaphysical, for it is how to get all of humanity to educate itself swiftly enough to generate spontaneous social behaviors that will avoid extinction. [Wikiquote](https://en.wikiquote.org/wiki/Buckminster_Fuller#The_Wellspring_of_Reality)\n",
    "\n",
    "> Of course, our failures are a consequence of many factors, but possibly one of the most important is the fact that society operates on the theory that specialization is the key to success, not realizing that specialization precludes comprehensive thinking. *Operating Manual for Spaceship Earth* (1969)\n",
    "\n",
    "In retrospect, megatrends suggest he's attracting people who call themselves Designers more than he's attracting Scientists, but then we have the term \"Design Science\" to keep these two glued together, as well as [Designing Engineers](https://mitpress.mit.edu/books/designing-engineers).\n",
    "\n",
    "What continues to challenge Designers is language itself, and Synergetics is an experiment in language design, using old words in new ways, as well as introducing some new ones.\n",
    "\n",
    "I will conclude with a quote from John McHale, in the foreword to *Comprehensive Thinking* by R. Buckminster Fuller, World Design Science Decade 1965 - 1975, Phase One (1965), Document 3, World Resources Inventory, Southern Illinois University:\n",
    "\n",
    "> Though the language of some of the texts may seem difficult at first approach, it should be borne in mind that one of our major problems in thinking today is the use of language systems which still represent a fixed structurally compartmentalized world view. The terms available to us for the expression of dynamic, rather than static, concepts are far from satisfactory. Fuller's language is particularly representative of the 'transitional state (of the Western world) between the older, traditional, noun-centered culture and its present day, changing, verb-centered culture'. In his search for an adequately descriptive terminology he tends to employ concepts and usages from many different fields juxtaposed in ways which may be unfamiliar to those more customarily restrained within the vocabularies of particular disciplines."
   ]
  },
  {
   "cell_type": "markdown",
   "metadata": {},
   "source": [
    "[Martian Math on Wikieducator](https://wikieducator.org/Martian_Math)"
   ]
  }
 ],
 "metadata": {
  "kernelspec": {
   "display_name": "Python 3 (ipykernel)",
   "language": "python",
   "name": "python3"
  },
  "language_info": {
   "codemirror_mode": {
    "name": "ipython",
    "version": 3
   },
   "file_extension": ".py",
   "mimetype": "text/x-python",
   "name": "python",
   "nbconvert_exporter": "python",
   "pygments_lexer": "ipython3",
   "version": "3.7.9"
  }
 },
 "nbformat": 4,
 "nbformat_minor": 4
}
